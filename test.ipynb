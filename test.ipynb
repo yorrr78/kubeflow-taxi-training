{
 "cells": [
  {
   "cell_type": "code",
   "execution_count": 1,
   "id": "5dbf701b-883f-46e8-a66e-a2d73aa4894e",
   "metadata": {
    "tags": []
   },
   "outputs": [],
   "source": [
    "import pandas as pd\n"
   ]
  },
  {
   "cell_type": "code",
   "execution_count": 2,
   "id": "d25fef84-a3b2-4c9a-a66b-f68c8c497f11",
   "metadata": {
    "tags": []
   },
   "outputs": [],
   "source": [
    "df = pd.read_parquet(\"gs://yorrr78-dev-111111-mlops-bucket/pipeline_root/616906371504/taxi-data-model-kfp-test-20240401174602007/preprocess-taxi-data_-1699892736578027520/train_data\")\n"
   ]
  },
  {
   "cell_type": "code",
   "execution_count": 3,
   "id": "01d3e6aa-ecf2-4282-9bca-e172ac61c766",
   "metadata": {
    "tags": []
   },
   "outputs": [
    {
     "data": {
      "text/html": [
       "<div>\n",
       "<style scoped>\n",
       "    .dataframe tbody tr th:only-of-type {\n",
       "        vertical-align: middle;\n",
       "    }\n",
       "\n",
       "    .dataframe tbody tr th {\n",
       "        vertical-align: top;\n",
       "    }\n",
       "\n",
       "    .dataframe thead th {\n",
       "        text-align: right;\n",
       "    }\n",
       "</style>\n",
       "<table border=\"1\" class=\"dataframe\">\n",
       "  <thead>\n",
       "    <tr style=\"text-align: right;\">\n",
       "      <th></th>\n",
       "      <th>PULocationID</th>\n",
       "      <th>DOLocationID</th>\n",
       "      <th>lpep_dropoff_datetime</th>\n",
       "      <th>lpep_pickup_datetime</th>\n",
       "      <th>trip_distance</th>\n",
       "      <th>duration</th>\n",
       "    </tr>\n",
       "  </thead>\n",
       "  <tbody>\n",
       "    <tr>\n",
       "      <th>0</th>\n",
       "      <td>74</td>\n",
       "      <td>41</td>\n",
       "      <td>2022-11-30 15:11:20</td>\n",
       "      <td>2022-11-30 15:03:02</td>\n",
       "      <td>1.00</td>\n",
       "      <td>8.300000</td>\n",
       "    </tr>\n",
       "    <tr>\n",
       "      <th>1</th>\n",
       "      <td>41</td>\n",
       "      <td>24</td>\n",
       "      <td>2022-11-18 15:22:40</td>\n",
       "      <td>2022-11-18 15:13:17</td>\n",
       "      <td>1.26</td>\n",
       "      <td>9.383333</td>\n",
       "    </tr>\n",
       "    <tr>\n",
       "      <th>2</th>\n",
       "      <td>74</td>\n",
       "      <td>75</td>\n",
       "      <td>2022-11-15 09:30:11</td>\n",
       "      <td>2022-11-15 09:15:10</td>\n",
       "      <td>1.38</td>\n",
       "      <td>15.016667</td>\n",
       "    </tr>\n",
       "    <tr>\n",
       "      <th>3</th>\n",
       "      <td>244</td>\n",
       "      <td>138</td>\n",
       "      <td>2022-11-29 07:11:00</td>\n",
       "      <td>2022-11-29 06:50:00</td>\n",
       "      <td>10.13</td>\n",
       "      <td>21.000000</td>\n",
       "    </tr>\n",
       "    <tr>\n",
       "      <th>4</th>\n",
       "      <td>74</td>\n",
       "      <td>223</td>\n",
       "      <td>2022-11-25 15:14:38</td>\n",
       "      <td>2022-11-25 15:01:14</td>\n",
       "      <td>4.24</td>\n",
       "      <td>13.400000</td>\n",
       "    </tr>\n",
       "  </tbody>\n",
       "</table>\n",
       "</div>"
      ],
      "text/plain": [
       "  PULocationID DOLocationID lpep_dropoff_datetime lpep_pickup_datetime  \\\n",
       "0           74           41   2022-11-30 15:11:20  2022-11-30 15:03:02   \n",
       "1           41           24   2022-11-18 15:22:40  2022-11-18 15:13:17   \n",
       "2           74           75   2022-11-15 09:30:11  2022-11-15 09:15:10   \n",
       "3          244          138   2022-11-29 07:11:00  2022-11-29 06:50:00   \n",
       "4           74          223   2022-11-25 15:14:38  2022-11-25 15:01:14   \n",
       "\n",
       "   trip_distance   duration  \n",
       "0           1.00   8.300000  \n",
       "1           1.26   9.383333  \n",
       "2           1.38  15.016667  \n",
       "3          10.13  21.000000  \n",
       "4           4.24  13.400000  "
      ]
     },
     "execution_count": 3,
     "metadata": {},
     "output_type": "execute_result"
    }
   ],
   "source": [
    "df.head(n=5)"
   ]
  },
  {
   "cell_type": "code",
   "execution_count": 6,
   "id": "c4cedadf-bc34-4547-84d7-83f4e90e0332",
   "metadata": {
    "tags": []
   },
   "outputs": [
    {
     "data": {
      "text/plain": [
       "'taxi-data-model-kfp'"
      ]
     },
     "execution_count": 6,
     "metadata": {},
     "output_type": "execute_result"
    }
   ],
   "source": [
    "config.get(\"pipeline_name\")"
   ]
  },
  {
   "cell_type": "code",
   "execution_count": 4,
   "id": "e47e921b-bd24-4d62-999a-15c8ead59be3",
   "metadata": {},
   "outputs": [],
   "source": [
    "test_json = {\n",
    "    \"data\": [1, 3, 5]\n",
    "}\n",
    "\n",
    "test = [5,3,10]\n",
    "test2 = [10,3,9]\n",
    "\n"
   ]
  },
  {
   "cell_type": "code",
   "execution_count": 6,
   "id": "d806c99b-24c1-443f-aa8b-dc4cc15ae333",
   "metadata": {
    "tags": []
   },
   "outputs": [],
   "source": [
    "test_json['data'].extend(test)"
   ]
  },
  {
   "cell_type": "code",
   "execution_count": 8,
   "id": "b4a6ece6-1502-4212-bee5-f61e64de3e58",
   "metadata": {
    "tags": []
   },
   "outputs": [],
   "source": [
    "test_json['data'].extend(test2)"
   ]
  },
  {
   "cell_type": "code",
   "execution_count": 9,
   "id": "b3138c22-113a-4a91-819f-73c1f6f4c91b",
   "metadata": {
    "tags": []
   },
   "outputs": [
    {
     "data": {
      "text/plain": [
       "{'data': [1, 3, 5, 5, 3, 10, 10, 3, 9]}"
      ]
     },
     "execution_count": 9,
     "metadata": {},
     "output_type": "execute_result"
    }
   ],
   "source": [
    "test_json"
   ]
  },
  {
   "cell_type": "code",
   "execution_count": null,
   "id": "1a860d5a-45ef-4c2f-8b07-db5725d335a3",
   "metadata": {},
   "outputs": [],
   "source": [
    "# Assume predictions is a list containing new predictions\n",
    "new_predictions = ['prediction1', 'prediction2', 'prediction3']\n",
    "\n",
    "# Append new predictions to the existing list\n",
    "data['predictions'].extend(new_predictions)\n"
   ]
  }
 ],
 "metadata": {
  "environment": {
   "kernel": "python3",
   "name": "tf2-cpu.2-11.m117",
   "type": "gcloud",
   "uri": "us-docker.pkg.dev/deeplearning-platform-release/gcr.io/tf2-cpu.2-11:m117"
  },
  "kernelspec": {
   "display_name": "Python 3 (Local)",
   "language": "python",
   "name": "python3"
  },
  "language_info": {
   "codemirror_mode": {
    "name": "ipython",
    "version": 3
   },
   "file_extension": ".py",
   "mimetype": "text/x-python",
   "name": "python",
   "nbconvert_exporter": "python",
   "pygments_lexer": "ipython3",
   "version": "3.10.13"
  }
 },
 "nbformat": 4,
 "nbformat_minor": 5
}
